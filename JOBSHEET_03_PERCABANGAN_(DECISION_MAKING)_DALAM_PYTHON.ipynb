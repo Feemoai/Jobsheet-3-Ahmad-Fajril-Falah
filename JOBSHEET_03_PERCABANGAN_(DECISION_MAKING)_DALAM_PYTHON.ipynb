{
  "nbformat": 4,
  "nbformat_minor": 0,
  "metadata": {
    "colab": {
      "provenance": [],
      "authorship_tag": "ABX9TyNsgUm7YX2hcmtZ8k1vlasH",
      "include_colab_link": true
    },
    "kernelspec": {
      "name": "python3",
      "display_name": "Python 3"
    },
    "language_info": {
      "name": "python"
    }
  },
  "cells": [
    {
      "cell_type": "markdown",
      "metadata": {
        "id": "view-in-github",
        "colab_type": "text"
      },
      "source": [
        "<a href=\"https://colab.research.google.com/github/Feemoai/Jobsheet-3-Ahmad-Fajril-Falah/blob/main/JOBSHEET_03_PERCABANGAN_(DECISION_MAKING)_DALAM_PYTHON.ipynb\" target=\"_parent\"><img src=\"https://colab.research.google.com/assets/colab-badge.svg\" alt=\"Open In Colab\"/></a>"
      ]
    },
    {
      "cell_type": "markdown",
      "source": [
        "**JOBSHEET 03. PERCABANGAN (DECISION MAKING) DALAM PYTHON**\n",
        "\n",
        "\n",
        "Dosen:\n",
        "Ir. Prayitno, S.ST., M.T., Ph.D.\n",
        "\n",
        "Nama Mahasiswa\t: Ahmad Fajril Falah\n",
        "\n",
        "NIM Mahasiswa\t: 4.33.25.1.01\n",
        "\n",
        "---\n",
        "\n"
      ],
      "metadata": {
        "id": "ZPs_ryeS0Cgy"
      }
    },
    {
      "cell_type": "markdown",
      "source": [
        "Praktikum 01 – If Sederhana\n",
        "\n",
        "---\n",
        "\n"
      ],
      "metadata": {
        "id": "kez25V6p0Df_"
      }
    },
    {
      "cell_type": "code",
      "execution_count": 10,
      "metadata": {
        "colab": {
          "base_uri": "https://localhost:8080/"
        },
        "id": "pJeRvKHBz6lF",
        "outputId": "7edb7496-568e-408a-98ba-ec1a523afdd7"
      },
      "outputs": [
        {
          "output_type": "stream",
          "name": "stdout",
          "text": [
            "Masukkan nilai ujian: 70\n",
            "Anda LULUS\n"
          ]
        }
      ],
      "source": [
        "nilai = int(input(\"Masukkan nilai ujian: \"))\n",
        "if nilai >= 60:\n",
        "  print(\"Anda LULUS\")\n"
      ]
    },
    {
      "cell_type": "markdown",
      "source": [
        "Praktikum 02 – If-Else\n",
        "\n",
        "---\n",
        "\n"
      ],
      "metadata": {
        "id": "uA519oId0bTA"
      }
    },
    {
      "cell_type": "code",
      "source": [
        "nilai = int(input(\"Masukkan nilai ujian: \"))\n",
        "if nilai >= 60:\n",
        "  print(\"Anda LULUS\")\n",
        "else:\n",
        "  print(\"Anda TIDAK LULUS\")\n"
      ],
      "metadata": {
        "colab": {
          "base_uri": "https://localhost:8080/"
        },
        "id": "jc8aMJXP0hbX",
        "outputId": "8f8f9937-3aab-437c-ee0e-560e2637149a"
      },
      "execution_count": 7,
      "outputs": [
        {
          "output_type": "stream",
          "name": "stdout",
          "text": [
            "Masukkan nilai ujian: 50\n",
            "Anda TIDAK LULUS\n"
          ]
        }
      ]
    },
    {
      "cell_type": "markdown",
      "source": [
        "Praktikum 03 – If-Elif-Else\n",
        "\n",
        "---\n",
        "\n"
      ],
      "metadata": {
        "id": "QsQW0m6j1d88"
      }
    },
    {
      "cell_type": "code",
      "source": [
        "nilai = int(input(\"Masukkan nilai akhir: \"))\n",
        "if nilai >= 85:\n",
        "  grade = \"A\"\n",
        "elif nilai >= 70:\n",
        "  grade = \"B\"\n",
        "elif nilai >= 55:\n",
        "  grade = \"C\"\n",
        "elif nilai >= 40:\n",
        "  grade = \"D\"\n",
        "else:\n",
        "  grade = \"E\"\n",
        "\n",
        "print(f\"Nilai Anda {nilai}, maka grade Anda = {grade}\")\n"
      ],
      "metadata": {
        "colab": {
          "base_uri": "https://localhost:8080/"
        },
        "id": "MyGaAumb1fRQ",
        "outputId": "3a9533a1-03ac-4fd7-9346-c59de7331cec"
      },
      "execution_count": 12,
      "outputs": [
        {
          "output_type": "stream",
          "name": "stdout",
          "text": [
            "Masukkan nilai akhir: 78\n",
            "Nilai Anda 78, maka grade Anda = B\n"
          ]
        }
      ]
    },
    {
      "cell_type": "markdown",
      "source": [
        "Praktikum 04 – Nested If\n",
        "\n",
        "---\n",
        "\n"
      ],
      "metadata": {
        "id": "4sNfsNFP2TQi"
      }
    },
    {
      "cell_type": "code",
      "source": [
        "ipk = float(input(\"Masukkan IPK: \"))\n",
        "sks = int(input(\"Masukkan jumlah SKS: \"))\n",
        "if ipk >= 3.0:\n",
        "  if sks >= 18:\n",
        "    print(\"Anda LAYAK mendapat beasiswa\")\n",
        "  else:\n",
        "    print(\"IPK memenuhi, tapi SKS kurang\")\n",
        "else:\n",
        "    print(\"Anda TIDAK layak mendapat beasiswa\")\n"
      ],
      "metadata": {
        "colab": {
          "base_uri": "https://localhost:8080/"
        },
        "id": "a6Xegejs2UEX",
        "outputId": "73e5812a-c534-4507-cd94-63b8892ee58d"
      },
      "execution_count": 35,
      "outputs": [
        {
          "output_type": "stream",
          "name": "stdout",
          "text": [
            "Masukkan IPK: 3.2\n",
            "Masukkan jumlah SKS: 20\n",
            "Anda LAYAK mendapat beasiswa\n"
          ]
        }
      ]
    },
    {
      "cell_type": "markdown",
      "source": [
        "Praktikum 05 – Match-Case\n",
        "\n",
        "---\n",
        "\n"
      ],
      "metadata": {
        "id": "b6SXaTzD3SSl"
      }
    },
    {
      "cell_type": "code",
      "source": [
        "menu = int(input(\"Pilih menu (1-3): \"))\n",
        "match menu:\n",
        "  case 1:\n",
        "    print(\"Anda memilih Nasi Goreng\")\n",
        "  case 2:\n",
        "    print(\"Anda memilih Mie Ayam\")\n",
        "  case 3:\n",
        "    print(\"Anda memilih Soto Ayam\")\n",
        "  case _:\n",
        "    print(\"Menu tidak tersedia\")\n"
      ],
      "metadata": {
        "colab": {
          "base_uri": "https://localhost:8080/"
        },
        "id": "HSADTSit3TO9",
        "outputId": "4f32cece-8f10-47c7-9300-f5f0773a3376"
      },
      "execution_count": 23,
      "outputs": [
        {
          "output_type": "stream",
          "name": "stdout",
          "text": [
            "Pilih menu (1-3): 9\n",
            "Menu tidak tersedia\n"
          ]
        }
      ]
    },
    {
      "cell_type": "markdown",
      "source": [
        "Praktikum 06 – Studi Kasus: Program Kasir\n",
        "\n",
        "---\n",
        "\n"
      ],
      "metadata": {
        "id": "dDsLAGYy4ErP"
      }
    },
    {
      "cell_type": "code",
      "source": [
        "barang = input(\"Masukkan nama barang: \")\n",
        "harga = float(input(\"Masukkan harga barang: \"))\n",
        "jumlah = int(input(\"Masukkan jumlah barang: \"))\n",
        "total = harga * jumlah\n",
        "\n",
        "if total >= 500000:\n",
        "  diskon = 0.2\n",
        "elif total >= 250000:\n",
        "  diskon = 0.1\n",
        "else:\n",
        "  diskon = 0\n",
        "\n",
        "bayar = total - (total * diskon)\n",
        "print(\"\\n===== Struk Belanja =====\")\n",
        "print(f\"Barang : {barang}\")\n",
        "print(f\"Jumlah : {jumlah}\")\n",
        "print(f\"Total : Rp {total}\")\n",
        "print(f\"Diskon : {diskon*100}%\")\n",
        "print(f\"Bayar : Rp {bayar}\")\n",
        "\n"
      ],
      "metadata": {
        "colab": {
          "base_uri": "https://localhost:8080/"
        },
        "id": "2SUM2arr4HW9",
        "outputId": "3bfc6b07-9e97-47c6-cb3f-a34125118542"
      },
      "execution_count": 26,
      "outputs": [
        {
          "output_type": "stream",
          "name": "stdout",
          "text": [
            "Masukkan nama barang: Pulpen\n",
            "Masukkan harga barang: 5000\n",
            "Masukkan jumlah barang: 10\n",
            "\n",
            "===== Struk Belanja =====\n",
            "Barang : Pulpen\n",
            "Jumlah : 10\n",
            "Total : Rp 50000.0\n",
            "Diskon : 0%\n",
            "Bayar : Rp 50000.0\n"
          ]
        }
      ]
    },
    {
      "cell_type": "markdown",
      "source": [],
      "metadata": {
        "id": "ZH7QdD6c5dVP"
      }
    },
    {
      "cell_type": "markdown",
      "source": [
        "3. Cek Bilangan Positif/Negatif/Nol\n",
        "\n",
        "---\n",
        "\n"
      ],
      "metadata": {
        "id": "-dqiHRA55dym"
      }
    },
    {
      "cell_type": "code",
      "source": [
        "print(\"Program: Cek Bilangan Positif, Negatif, atau Nol \\n\")\n",
        "angka = int(input(\"Masukkan sebuah bilangan: \"))\n",
        "\n",
        "# logika if-elif-else\n",
        "if angka > 0:\n",
        "    print(f\"Bilangan {angka} adalah positif.\")\n",
        "elif angka < 0:\n",
        "    print(f\"Bilangan {angka} adalah negatif.\")\n",
        "else:\n",
        "    print(f\"Bilangan {angka} adalah nol.\")\n"
      ],
      "metadata": {
        "colab": {
          "base_uri": "https://localhost:8080/"
        },
        "id": "yzw8M7zR5eSE",
        "outputId": "414b77d6-6842-43ab-abb4-ad66b2ecc482"
      },
      "execution_count": 37,
      "outputs": [
        {
          "output_type": "stream",
          "name": "stdout",
          "text": [
            "Program: Cek Bilangan Positif, Negatif, atau Nol \n",
            "\n",
            "Masukkan sebuah bilangan: 0\n",
            "Bilangan 0 adalah nol.\n"
          ]
        }
      ]
    },
    {
      "cell_type": "markdown",
      "source": [
        "4.\tMenentukan Kategori Usia\n",
        "\n",
        "---\n",
        "\n"
      ],
      "metadata": {
        "id": "0qTJy9bjEYCu"
      }
    },
    {
      "cell_type": "code",
      "source": [
        "print(\"Ahmad Fajril Falah\")\n",
        "print(\"Program: Menentukan Kategori Usia \\n\")\n",
        "\n",
        "umur = int(input(\"Masukkan umur Anda: \"))\n",
        "\n",
        "# Menentukan kategori usia\n",
        "if umur < 5:\n",
        "    print(f\"Umur {umur} tahun termasuk kategori: Balita\")\n",
        "elif umur >= 5 and umur <= 11:\n",
        "    print(f\"Umur {umur} tahun termasuk kategori: Anak-anak\")\n",
        "elif umur >= 12 and umur <= 17:\n",
        "    print(f\"Umur {umur} tahun termasuk kategori: Remaja\")\n",
        "elif umur >= 18 and umur <= 59:\n",
        "    print(f\"Umur {umur} tahun termasuk kategori: Dewasa\")\n",
        "else:\n",
        "    print(f\"Umur {umur} tahun termasuk kategori: Lansia\")\n"
      ],
      "metadata": {
        "colab": {
          "base_uri": "https://localhost:8080/"
        },
        "id": "qOf5j5IPEaP5",
        "outputId": "6d21a2a8-e545-471f-fb5d-be7653949cfd"
      },
      "execution_count": 64,
      "outputs": [
        {
          "output_type": "stream",
          "name": "stdout",
          "text": [
            "Ahmad Fajril Falah\n",
            "Program: Menentukan Kategori Usia \n",
            "\n",
            "Masukkan umur Anda: 19\n",
            "Umur 19 tahun termasuk kategori: Dewasa\n"
          ]
        }
      ]
    },
    {
      "cell_type": "markdown",
      "source": [
        "5.\tHitung Tarif Parkir\n",
        "\n",
        "---\n",
        "\n"
      ],
      "metadata": {
        "id": "3okJrMlpIsKU"
      }
    },
    {
      "cell_type": "code",
      "source": [
        "print(\"Ahmad Fajril Falah\")\n",
        "print(\"Program: Hitung Tarif Parkir \\n\")\n",
        "jam = int(input(\"Masukkan lama parkir (jam): \"))\n",
        "\n",
        "# Menghitung tarif\n",
        "if jam <= 2:\n",
        "    tarif = 5000\n",
        "elif jam > 2:\n",
        "    tarif = 5000 + (jam - 2) * 2000\n",
        "# Tarif maksimum\n",
        "if tarif > 20000:\n",
        "    tarif = 20000\n",
        "\n",
        "print(f\"Lama parkir: {jam} jam\")\n",
        "print(f\"Total tarif parkir: Rp {tarif}\")\n"
      ],
      "metadata": {
        "colab": {
          "base_uri": "https://localhost:8080/"
        },
        "id": "-PVaTMP-IMNT",
        "outputId": "237a970c-7106-47c2-b74b-60dbe866b84d"
      },
      "execution_count": 50,
      "outputs": [
        {
          "output_type": "stream",
          "name": "stdout",
          "text": [
            "Ahmad Fajril Falah\n",
            "Program: Hitung Tarif Parkir \n",
            "\n",
            "Masukkan lama parkir (jam): 10\n",
            "Lama parkir: 10 jam\n",
            "Total tarif parkir: Rp 20000\n"
          ]
        }
      ]
    },
    {
      "cell_type": "markdown",
      "source": [
        "6.\tCek Login Sederhana\n",
        "\n",
        "---\n",
        "\n"
      ],
      "metadata": {
        "id": "53333PSyLMyB"
      }
    },
    {
      "cell_type": "code",
      "source": [
        "print(\"Ahmad Fajril Falah\")\n",
        "print(\"Program Cek Login Sederhana\")\n",
        "\n",
        "username = input(\"Masukkan username: \")\n",
        "password = input(\"Masukkan password: \")\n",
        "\n",
        "# Apakah username dan password sesuai?\n",
        "if username == \"admin\" and password == \"1234\":\n",
        "    print(\"Login berhasil\")\n",
        "else:\n",
        "    print(\"Login gagal\")\n"
      ],
      "metadata": {
        "colab": {
          "base_uri": "https://localhost:8080/"
        },
        "id": "xxMK-hSKK5-E",
        "outputId": "7318a59d-182d-484b-c01d-c0fb3f3a0fd4"
      },
      "execution_count": 53,
      "outputs": [
        {
          "output_type": "stream",
          "name": "stdout",
          "text": [
            "Ahmad Fajril Falah\n",
            "Program Cek Login Sederhana\n",
            "Masukkan username: admin gagal\n",
            "Masukkan password: 123\n",
            "Login gagal\n"
          ]
        }
      ]
    },
    {
      "cell_type": "markdown",
      "source": [
        "7.\tOne-Liner If (Cek Genap/Ganjil)\n",
        "\n",
        "---\n",
        "\n"
      ],
      "metadata": {
        "id": "kZM7wdfnNHiz"
      }
    },
    {
      "cell_type": "code",
      "source": [
        "print(\"Ahmad Fajril Falah\")\n",
        "print(\"Program Cek Bilangan Genap atau Ganjil (One-Liner If)\\n\")\n",
        "\n",
        "bilangan = int(input(\"Masukkan sebuah bilangan: \"))\n",
        "\n",
        "print(f\"{bilangan} adalah bilangan genap\") if bilangan % 2 == 0 else print(f\"{bilangan} adalah bilangan ganjil\")\n"
      ],
      "metadata": {
        "colab": {
          "base_uri": "https://localhost:8080/"
        },
        "id": "UvLaufM7M-zU",
        "outputId": "1eaec826-9c9a-45a1-f696-dea61c361182"
      },
      "execution_count": 56,
      "outputs": [
        {
          "output_type": "stream",
          "name": "stdout",
          "text": [
            "Ahmad Fajril Falah\n",
            "Program Cek Bilangan Genap atau Ganjil (One-Liner If)\n",
            "\n",
            "Masukkan sebuah bilangan: 5\n",
            "5 adalah bilangan ganjil\n"
          ]
        }
      ]
    },
    {
      "cell_type": "markdown",
      "source": [
        "8.\tMenu Restoran dengan Match-Case\n",
        "\n",
        "---\n",
        "\n"
      ],
      "metadata": {
        "id": "O241sOryPv-x"
      }
    },
    {
      "cell_type": "code",
      "source": [
        "print(\"Ahmad Fajril Falah\")\n",
        "print(\"Program Menu Restoran dengan Match-Case\\n\")\n",
        "\n",
        "# Pilihan menu\n",
        "print(\"Menu Restoran:\")\n",
        "print(\"1. Nasi Goreng\")\n",
        "print(\"2. Mie Ayam\")\n",
        "print(\"3. Soto Ayam\\n\")\n",
        "\n",
        "pilihan = int(input(\"Masukkan nomor menu (1-3): \"))\n",
        "\n",
        "# Mengecek pilihan menu\n",
        "match pilihan:\n",
        "    case 1:\n",
        "        print(\"Anda memilih Nasi Goreng\")\n",
        "    case 2:\n",
        "        print(\"Anda memilih Mie Ayam\")\n",
        "    case 3:\n",
        "        print(\"Anda memilih Soto Ayam\")\n",
        "    case _:\n",
        "        print(\"Menu tidak tersedia\")\n"
      ],
      "metadata": {
        "colab": {
          "base_uri": "https://localhost:8080/"
        },
        "id": "S8Ga5lejPckF",
        "outputId": "761bec30-2df4-4df5-80de-d5f5281d2af4"
      },
      "execution_count": 59,
      "outputs": [
        {
          "output_type": "stream",
          "name": "stdout",
          "text": [
            "Ahmad Fajril Falah\n",
            "Program Menu Restoran dengan Match-Case\n",
            "\n",
            "Menu Restoran:\n",
            "1. Nasi Goreng\n",
            "2. Mie Ayam\n",
            "3. Soto Ayam\n",
            "\n",
            "Masukkan nomor menu (1-3): 4\n",
            "Menu tidak tersedia\n"
          ]
        }
      ]
    },
    {
      "cell_type": "markdown",
      "source": [
        "9.\tStudi Kasus Nyata – Program Penentuan Diskon\n",
        "\n",
        "---\n",
        "\n"
      ],
      "metadata": {
        "id": "X-4POhcpS--b"
      }
    },
    {
      "cell_type": "code",
      "source": [
        "print(\"Ahmad Fajril Falah\")\n",
        "print(\"Program Penentuan Diskon Belanja\\n\")\n",
        "\n",
        "nama_barang = input(\"Masukkan nama barang: \")\n",
        "jumlah = int(input(\"Masukkan jumlah barang: \"))\n",
        "harga = float(input(\"Masukkan harga satuan barang: \"))\n",
        "\n",
        "# Total belanja\n",
        "total = jumlah * harga\n",
        "\n",
        "# Diskon belanja\n",
        "if total >= 500000:\n",
        "    diskon = 0.20 * total\n",
        "elif total >= 250000:\n",
        "    diskon = 0.10 * total\n",
        "else:\n",
        "    diskon = 0\n",
        "\n",
        "# Total bayar\n",
        "bayar = total - diskon\n",
        "\n",
        "print(\"\\n===== STRUK BELANJA =====\")\n",
        "print(f\"Nama Barang : {nama_barang}\")\n",
        "print(f\"Jumlah      : {jumlah}\")\n",
        "print(f\"Harga Satuan: Rp{harga:,.0f}\")\n",
        "print(f\"Total       : Rp{total:,.0f}\")\n",
        "print(f\"Diskon      : Rp{diskon:,.0f}\")\n",
        "print(f\"Jumlah Bayar: Rp{bayar:,.0f}\")\n",
        "print(\"==========================\")\n"
      ],
      "metadata": {
        "colab": {
          "base_uri": "https://localhost:8080/"
        },
        "id": "CCZduWyPRSQk",
        "outputId": "60bb3295-0c2c-4284-9ff7-307ac146dd32"
      },
      "execution_count": 63,
      "outputs": [
        {
          "output_type": "stream",
          "name": "stdout",
          "text": [
            "Ahmad Fajril Falah\n",
            "Program Penentuan Diskon Belanja\n",
            "\n",
            "Masukkan nama barang: Sepatu\n",
            "Masukkan jumlah barang: 2\n",
            "Masukkan harga satuan barang: 300000\n",
            "\n",
            "===== STRUK BELANJA =====\n",
            "Nama Barang : Sepatu\n",
            "Jumlah      : 2\n",
            "Harga Satuan: Rp300,000\n",
            "Total       : Rp600,000\n",
            "Diskon      : Rp120,000\n",
            "Jumlah Bayar: Rp480,000\n",
            "==========================\n"
          ]
        }
      ]
    }
  ]
}